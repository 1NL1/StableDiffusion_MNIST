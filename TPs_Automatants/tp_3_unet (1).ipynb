{
  "cells": [
    {
      "cell_type": "markdown",
      "source": [
        "# Introduction à Unets\n",
        "L'architecture Unet est un réseau de neurones initialement développé pour la segmentation d'images biomédicales à l'Université de Freiburg, en Allemagne.\n",
        "L'Unet est une sorte d'autoencodeur mais avec des connections résiduelles entre l'encodeur et le décodeur afin d'éviter la disparition du gradient et de connecter les informations extraites par l'encodeur au décodeur plus facilement. Ces connections permettent au réseasu de capturer et de propager efficacement les informations de contexte.\n",
        "\n",
        "![Unet architecture](https://raw.githubusercontent.com/Automatants/projets-de-permanence/master/image-hosting/TP4_Unet/u-net-architecture.png)\n",
        "\n",
        "\n",
        "L'Unet est composée d'une structure encodeur-décodeur avec des connexions de saut (skip connections), lui permettant de capturer à la fois des features de haut et bas niveau.\n",
        "\n",
        "L'architecture Unet en détail:\n",
        "\n",
        "Encodeur : L'encodeur est responsable de l'extraction des features de l'image en entrée. Il consiste de plusieurs blocs de couche de convolution et un maxpooling entre chaque bloc pour réduire la taille de l'image.\n",
        "\n",
        "Bridge: Le bridge sert à connecter les features extraits par l'encodeur à chaque niveau à l'entrée du décodeur, en concatenant la sortie de chaque bloc de l'encodeur à la sortie du bloc correspondant du décodeur.\n",
        "\n",
        "Décodeur : Le décodeur s'occupe de la tâche essentielle de remapper les features de haut niveau extraites par l'encodeur en une image de sortie reconstruite. Il est composé également de plusieurs blocs, et utilise des couches de convolution transposées pour effectuer l'upsampling des features, rétablissant ainsi leurs dimensions originales. Chaque bloc du décodeur reçoit non seulement les données upsampled du bloc précédent, mais aussi les données de l'encodeur correspondant grâce aux connexions de saut. Ces données concaténées sont ensuite transmises à travers des couches de convolution pour affiner les features upsampled.\n"
      ],
      "metadata": {
        "collapsed": false,
        "id": "ZOqd7KDrkH9I"
      }
    },
    {
      "cell_type": "markdown",
      "source": [
        "## Debruitage des images\n",
        "\n",
        "On va essayer d'améliorer notre modèle de débruitage d'images qu'on a fait en TP3 en utilisant l'architecture UNet."
      ],
      "metadata": {
        "collapsed": false,
        "id": "o_p8Yc1hkH9K"
      }
    },
    {
      "cell_type": "markdown",
      "source": [
        "## Importation des librairies et téléchargements de MNIST"
      ],
      "metadata": {
        "collapsed": false,
        "id": "sGrsOff3kH9K"
      }
    },
    {
      "cell_type": "code",
      "execution_count": null,
      "outputs": [
        {
          "output_type": "stream",
          "name": "stdout",
          "text": [
            "Downloading http://yann.lecun.com/exdb/mnist/train-images-idx3-ubyte.gz\n",
            "Failed to download (trying next):\n",
            "HTTP Error 403: Forbidden\n",
            "\n",
            "Downloading https://ossci-datasets.s3.amazonaws.com/mnist/train-images-idx3-ubyte.gz\n",
            "Downloading https://ossci-datasets.s3.amazonaws.com/mnist/train-images-idx3-ubyte.gz to ./data/MNIST/raw/train-images-idx3-ubyte.gz\n"
          ]
        },
        {
          "output_type": "stream",
          "name": "stderr",
          "text": [
            "100%|██████████| 9.91M/9.91M [00:00<00:00, 11.5MB/s]\n"
          ]
        },
        {
          "output_type": "stream",
          "name": "stdout",
          "text": [
            "Extracting ./data/MNIST/raw/train-images-idx3-ubyte.gz to ./data/MNIST/raw\n",
            "\n",
            "Downloading http://yann.lecun.com/exdb/mnist/train-labels-idx1-ubyte.gz\n",
            "Failed to download (trying next):\n",
            "HTTP Error 403: Forbidden\n",
            "\n",
            "Downloading https://ossci-datasets.s3.amazonaws.com/mnist/train-labels-idx1-ubyte.gz\n",
            "Downloading https://ossci-datasets.s3.amazonaws.com/mnist/train-labels-idx1-ubyte.gz to ./data/MNIST/raw/train-labels-idx1-ubyte.gz\n"
          ]
        },
        {
          "output_type": "stream",
          "name": "stderr",
          "text": [
            "100%|██████████| 28.9k/28.9k [00:00<00:00, 352kB/s]\n"
          ]
        },
        {
          "output_type": "stream",
          "name": "stdout",
          "text": [
            "Extracting ./data/MNIST/raw/train-labels-idx1-ubyte.gz to ./data/MNIST/raw\n",
            "\n",
            "Downloading http://yann.lecun.com/exdb/mnist/t10k-images-idx3-ubyte.gz\n",
            "Failed to download (trying next):\n",
            "HTTP Error 403: Forbidden\n",
            "\n",
            "Downloading https://ossci-datasets.s3.amazonaws.com/mnist/t10k-images-idx3-ubyte.gz\n",
            "Downloading https://ossci-datasets.s3.amazonaws.com/mnist/t10k-images-idx3-ubyte.gz to ./data/MNIST/raw/t10k-images-idx3-ubyte.gz\n"
          ]
        },
        {
          "output_type": "stream",
          "name": "stderr",
          "text": [
            "100%|██████████| 1.65M/1.65M [00:00<00:00, 3.20MB/s]\n"
          ]
        },
        {
          "output_type": "stream",
          "name": "stdout",
          "text": [
            "Extracting ./data/MNIST/raw/t10k-images-idx3-ubyte.gz to ./data/MNIST/raw\n",
            "\n",
            "Downloading http://yann.lecun.com/exdb/mnist/t10k-labels-idx1-ubyte.gz\n",
            "Failed to download (trying next):\n",
            "HTTP Error 403: Forbidden\n",
            "\n",
            "Downloading https://ossci-datasets.s3.amazonaws.com/mnist/t10k-labels-idx1-ubyte.gz\n",
            "Downloading https://ossci-datasets.s3.amazonaws.com/mnist/t10k-labels-idx1-ubyte.gz to ./data/MNIST/raw/t10k-labels-idx1-ubyte.gz\n"
          ]
        },
        {
          "output_type": "stream",
          "name": "stderr",
          "text": [
            "100%|██████████| 4.54k/4.54k [00:00<00:00, 5.62MB/s]"
          ]
        },
        {
          "output_type": "stream",
          "name": "stdout",
          "text": [
            "Extracting ./data/MNIST/raw/t10k-labels-idx1-ubyte.gz to ./data/MNIST/raw\n",
            "\n",
            "torch.Size([60000, 28, 28])\n",
            "torch.Size([10000, 28, 28])\n"
          ]
        },
        {
          "output_type": "stream",
          "name": "stderr",
          "text": [
            "\n"
          ]
        }
      ],
      "source": [
        "from torchvision import datasets, transforms\n",
        "\n",
        "transform = transforms.Compose([transforms.ToTensor()])\n",
        "train_dataset = datasets.MNIST(root='./data', train=True, download=True, transform=transform)\n",
        "test_dataset = datasets.MNIST(root='./data', train=False, download=True, transform=transform)\n",
        "\n",
        "X_train = train_dataset.data\n",
        "X_test = test_dataset.data\n",
        "\n",
        "print(X_train.shape)\n",
        "print(X_test.shape)"
      ],
      "metadata": {
        "colab": {
          "base_uri": "https://localhost:8080/"
        },
        "id": "Vaum0W8CkH9L",
        "outputId": "73af4078-fde1-4df1-a181-de62131b2c70"
      }
    },
    {
      "cell_type": "markdown",
      "source": [
        "## Exercice 1: Normalisation des images et ajout de bruit\n",
        "Normaliser les images en [0, 1] et ajouter du bruit sur les images de train et de test."
      ],
      "metadata": {
        "collapsed": false,
        "id": "cxntqpxfkH9L"
      }
    },
    {
      "cell_type": "code",
      "execution_count": null,
      "outputs": [
        {
          "output_type": "stream",
          "name": "stdout",
          "text": [
            "torch.Size([60000, 28, 28])\n",
            "torch.Size([10000, 28, 28])\n"
          ]
        }
      ],
      "source": [
        "import torch\n",
        "X_train_normalized = X_train / 255.0\n",
        "X_test_normalized = X_test / 255.0\n",
        "\n",
        "X_train_noise = X_train_normalized + torch.randn_like(X_train_normalized) * 1\n",
        "X_test_noise = X_test_normalized + torch.randn_like(X_test_normalized) * 1\n",
        "\n",
        "print(X_train_noise.shape)\n",
        "print(X_test_noise.shape)"
      ],
      "metadata": {
        "id": "-PR8Q9m_kH9L",
        "colab": {
          "base_uri": "https://localhost:8080/"
        },
        "outputId": "d07ac3e1-0b91-4449-f9d4-4751b0782cd5"
      }
    },
    {
      "cell_type": "markdown",
      "source": [
        "## Exercice 2: Visualisation des données bruitées"
      ],
      "metadata": {
        "collapsed": false,
        "id": "2QLVEMWmkH9L"
      }
    },
    {
      "cell_type": "code",
      "execution_count": null,
      "outputs": [
        {
          "output_type": "display_data",
          "data": {
            "text/plain": [
              "<Figure size 640x480 with 5 Axes>"
            ],
            "image/png": "[encoded data removed]"
          },
          "metadata": {}
        }
      ],
      "source": [
        "import matplotlib.pyplot as plt\n",
        "\n",
        "for i in range(5):\n",
        "  plt.subplot(2, 5, i+1)\n",
        "  plt.imshow(X_test_noise[i])\n",
        "  plt.axis('off')"
      ],
      "metadata": {
        "id": "eypy8aZLkH9M",
        "colab": {
          "base_uri": "https://localhost:8080/",
          "height": 122
        },
        "outputId": "7c1a2233-b467-4565-c06f-26d00f67f212"
      }
    },
    {
      "cell_type": "markdown",
      "source": [
        "## Exercice 3: Création du modèle\n"
      ],
      "metadata": {
        "collapsed": false,
        "id": "o6hYQzpXkH9M"
      }
    },
    {
      "cell_type": "markdown",
      "source": [
        "### Encodeur\n",
        "Voici le schéma de l'encodeur qu'on va créer (avec des ReLU après chaque couche de convolution):\n"
      ],
      "metadata": {
        "collapsed": false,
        "id": "nQvI0pAikH9M"
      }
    },
    {
      "cell_type": "code",
      "execution_count": null,
      "outputs": [],
      "source": [
        "# Layer (type)                   Output Shape\n",
        "# ================================================================\n",
        "# input_1               (1, 28, 28)\n",
        "# ________________________________________________________________\n",
        "# conv2d_1              (32, 28, 28)\n",
        "# ________________________________________________________________\n",
        "# maxpooling2d_1        (32, 14, 14)\n",
        "# ________________________________________________________________\n",
        "# conv2d_2              (64, 14, 14)\n",
        "# ________________________________________________________________\n",
        "# maxpooling2d_2        (64, 7, 7)\n",
        "# ________________________________________________________________\n",
        "# conv2d_3 (Conv2D)     (128, 7, 7)\n",
        "# ________________________________________________________________\n",
        "# maxpooling2d_3        (128, 3, 3)\n",
        "# ________________________________________________________________\n",
        "# conv2d_4              (256, 3, 3)\n",
        "# ________________________________________________________________\n",
        "# maxpooling2d_4        (256, 1, 1)\n",
        "# ________________________________________________________________\n",
        "# conv2d_5              (256, 1, 1)\n",
        "# ________________________________________________________________\n",
        "# outputs               [(32, 28, 28), (64, 14, 14), (128, 7, 7), (256, 3, 3), (256, 1, 1)]"
      ],
      "metadata": {
        "id": "xl6tP0dhkH9M"
      }
    },
    {
      "cell_type": "markdown",
      "source": [
        "Il faut retourner non seulement la sortie de conv2d_5 mais aussi les sorties de conv2d_1, conv2d_2, conv2d_3 et conv2d_4 pour les utiliser dans le décodeur.\n",
        "Vous pouvez par exemple mettre les sorties dans une liste et les retourner."
      ],
      "metadata": {
        "collapsed": false,
        "id": "9GiXodP9kH9N"
      }
    },
    {
      "cell_type": "code",
      "execution_count": null,
      "outputs": [],
      "source": [
        "import torch\n",
        "import torch.nn as nn\n",
        "\n",
        "class Encoder(nn.Module):\n",
        "\tdef __init__(self):\n",
        "\t\tsuper().__init__()\n",
        "\t\tself.relu = nn.ReLU()\n",
        "\n",
        "\t\tself.conv2d_1 = nn.Conv2d(1, 32, kernel_size = 3, padding = \"same\")\n",
        "\t\tself.conv2d_2 = nn.Conv2d(32, 64, kernel_size = 3, padding = \"same\")\n",
        "\t\tself.conv2d_3 = nn.Conv2d(64, 128, kernel_size = 3, padding = \"same\")\n",
        "\t\tself.conv2d_4 = nn.Conv2d(128, 256, kernel_size = 3, padding = \"same\")\n",
        "\t\tself.conv2d_5 = nn.Conv2d(256, 256, kernel_size = 3, padding = \"same\")\n",
        "\n",
        "\t\tself.maxpooling2d_1 = nn.MaxPool2d(kernel_size = 2)\n",
        "\t\tself.maxpooling2d_2 = nn.MaxPool2d(kernel_size = 2)\n",
        "\t\tself.maxpooling2d_3 = nn.MaxPool2d(kernel_size = 2)\n",
        "\t\tself.maxpooling2d_4 = nn.MaxPool2d(kernel_size = 2)\n",
        "\n",
        "\tdef forward(self, x):\n",
        "\t\tx = self.conv2d_1(x)\n",
        "\t\tx = self.relu(x)\n",
        "\t\tres1 = x\n",
        "\t\tx = self.maxpooling2d_1(x)\n",
        "\n",
        "\t\tx = self.conv2d_2(x)\n",
        "\t\tx = self.relu(x)\n",
        "\t\tres2 = x\n",
        "\t\tx = self.maxpooling2d_2(x)\n",
        "\n",
        "\t\tx = self.conv2d_3(x)\n",
        "\t\tx = self.relu(x)\n",
        "\t\tres3 = x\n",
        "\t\tx = self.maxpooling2d_3(x)\n",
        "\n",
        "\t\tx = self.conv2d_4(x)\n",
        "\t\tx = self.relu(x)\n",
        "\t\tres4 = x\n",
        "\t\tx = self.maxpooling2d_4(x)\n",
        "\n",
        "\t\tx = self.conv2d_5(x)\n",
        "\t\tx = self.relu(x)\n",
        "\t\tres5 = x\n",
        "\n",
        "\t\treturn [res1, res2, res3, res4, res5]"
      ],
      "metadata": {
        "id": "H4NW1eiCkH9N"
      }
    },
    {
      "cell_type": "markdown",
      "source": [
        "### Torchinfo pour vérifier"
      ],
      "metadata": {
        "collapsed": false,
        "id": "Z4s5HhjFkH9N"
      }
    },
    {
      "cell_type": "code",
      "execution_count": null,
      "outputs": [
        {
          "output_type": "stream",
          "name": "stdout",
          "text": [
            "Requirement already satisfied: torchinfo in /usr/local/lib/python3.10/dist-packages (1.8.0)\n"
          ]
        },
        {
          "output_type": "execute_result",
          "data": {
            "text/plain": [
              "==========================================================================================\n",
              "Layer (type:depth-idx)                   Output Shape              Param #\n",
              "==========================================================================================\n",
              "Encoder                                  [5, 32, 28, 28]           --\n",
              "├─Conv2d: 1-1                            [5, 32, 28, 28]           320\n",
              "├─ReLU: 1-2                              [5, 32, 28, 28]           --\n",
              "├─MaxPool2d: 1-3                         [5, 32, 14, 14]           --\n",
              "├─Conv2d: 1-4                            [5, 64, 14, 14]           18,496\n",
              "├─ReLU: 1-5                              [5, 64, 14, 14]           --\n",
              "├─MaxPool2d: 1-6                         [5, 64, 7, 7]             --\n",
              "├─Conv2d: 1-7                            [5, 128, 7, 7]            73,856\n",
              "├─ReLU: 1-8                              [5, 128, 7, 7]            --\n",
              "├─MaxPool2d: 1-9                         [5, 128, 3, 3]            --\n",
              "├─Conv2d: 1-10                           [5, 256, 3, 3]            295,168\n",
              "├─ReLU: 1-11                             [5, 256, 3, 3]            --\n",
              "├─MaxPool2d: 1-12                        [5, 256, 1, 1]            --\n",
              "├─Conv2d: 1-13                           [5, 256, 1, 1]            590,080\n",
              "├─ReLU: 1-14                             [5, 256, 1, 1]            --\n",
              "==========================================================================================\n",
              "Total params: 977,920\n",
              "Trainable params: 977,920\n",
              "Non-trainable params: 0\n",
              "Total mult-adds (M): 53.71\n",
              "==========================================================================================\n",
              "Input size (MB): 0.02\n",
              "Forward/backward pass size (MB): 1.86\n",
              "Params size (MB): 3.91\n",
              "Estimated Total Size (MB): 5.79\n",
              "=========================================================================================="
            ]
          },
          "metadata": {},
          "execution_count": 19
        }
      ],
      "source": [
        "!pip install torchinfo\n",
        "from torchinfo import summary\n",
        "\n",
        "batch_size = 5\n",
        "encoder = Encoder()\n",
        "summary(encoder, input_size=(batch_size, 1, 28, 28))"
      ],
      "metadata": {
        "id": "ApZs7UvKkH9N",
        "colab": {
          "base_uri": "https://localhost:8080/"
        },
        "outputId": "ad377324-4a4a-467f-8f37-2c1d8bcf203f"
      }
    },
    {
      "cell_type": "markdown",
      "source": [
        "### Décodeur\n",
        "Pour concatener, regarder la fonction torch.cat: https://pytorch.org/docs/stable/generated/torch.cat.html\n",
        "\n",
        "Voici le schéma du décodeur qu'on va créer (avec des ReLU après chaque couche de convolution):"
      ],
      "metadata": {
        "collapsed": false,
        "id": "yVm1qAgRkH9N"
      }
    },
    {
      "cell_type": "code",
      "execution_count": null,
      "outputs": [],
      "source": [
        "# Layer (type)                   Output Shape\n",
        "# ================================================================\n",
        "# input_1               [(32, 28, 28), (64, 14, 14), (128, 7, 7), (256, 3, 3), (256, 1, 1)]\n",
        "# ________________________________________________________________\n",
        "# conv2d_transpose_1    (256, 3, 3)\n",
        "# ________________________________________________________________\n",
        "# concatenate_1         (512, 3, 3)\n",
        "# ________________________________________________________________\n",
        "# conv2d_6              (256, 3, 3)\n",
        "# ________________________________________________________________\n",
        "# conv2d_transpose_2    (128, 7, 7)\n",
        "# ________________________________________________________________\n",
        "# concatenate_2         (256, 7, 7)\n",
        "# ________________________________________________________________\n",
        "# conv2d_7              (128, 7, 7)\n",
        "# ________________________________________________________________\n",
        "# conv2d_transpose_3    (64, 14, 14)\n",
        "# ________________________________________________________________\n",
        "# concatenate_3         (128, 14, 14)\n",
        "# ________________________________________________________________\n",
        "# conv2d_8              (64, 14, 14)\n",
        "# ________________________________________________________________\n",
        "# conv2d_transpose_4    (32, 28, 28)\n",
        "# ________________________________________________________________\n",
        "# concatenate_4         (64, 28, 28)\n",
        "# ________________________________________________________________\n",
        "# conv2d_9              (1, 28, 28)\n",
        "# ________________________________________________________________\n"
      ],
      "metadata": {
        "id": "yP1PfvKIkH9N"
      }
    },
    {
      "cell_type": "markdown",
      "source": [
        "Compléter la classe Decoder ci-dessous. `encoder_outputs` est une liste qui contient des `torch.Tensor`, correspondant aux sorties des couches de convolution de l'encodeur."
      ],
      "metadata": {
        "collapsed": false,
        "id": "H5wKG9KWkH9N"
      }
    },
    {
      "cell_type": "code",
      "execution_count": null,
      "outputs": [],
      "source": [
        "class Decoder(nn.Module):\n",
        "\tdef __init__(self):\n",
        "\t\tsuper().__init__()\n",
        "\t\tself.relu = nn.ReLU()\n",
        "\n",
        "\t\tself.conv2d_transpose_1 = nn.ConvTranspose2d(256, 256, kernel_size = 3)\n",
        "\t\tself.conv2d_6 = nn.Conv2d(512, 256, kernel_size = 3, padding = \"same\")\n",
        "\t\tself.conv2d_transpose_2 = nn.ConvTranspose2d(256, 128, kernel_size = 3, stride = 2)\n",
        "\t\tself.conv2d_7 = nn.Conv2d(256, 128, kernel_size = 3, padding = \"same\")\n",
        "\t\tself.conv2d_transpose_3 = nn.ConvTranspose2d(128, 64, kernel_size = 3, padding = 1, stride = 2, output_padding = 1)\n",
        "\t\tself.conv2d_8 = nn.Conv2d(128,64, kernel_size = 3, padding = \"same\")\n",
        "\t\tself.conv2d_transpose_4 = nn.ConvTranspose2d(64, 32, kernel_size = 3, stride = 2, padding = 1, output_padding = 1)\n",
        "\t\tself.conv2d_9 = nn.Conv2d(64, 1, kernel_size = 3, padding = \"same\")\n",
        "\n",
        "\tdef forward(self, *encoder_outputs):\n",
        "\n",
        "\t\tx = encoder_outputs[-1]\n",
        "\t\tx = self.conv2d_transpose_1(x)\n",
        "\t\tx = self.relu(x)\n",
        "\t\tx = torch.cat([x, encoder_outputs[-2]], dim = 1)\n",
        "\t\tx = self.conv2d_6(x)\n",
        "\t\tx = self.relu(x)\n",
        "\n",
        "\t\tx = self.conv2d_transpose_2(x)\n",
        "\t\tx = self.relu(x)\n",
        "\t\tx = torch.cat([x, encoder_outputs[-3]], dim = 1)\n",
        "\t\tx = self.conv2d_7(x)\n",
        "\t\tx = self.relu(x)\n",
        "\n",
        "\t\tx = self.conv2d_transpose_3(x)\n",
        "\t\tx = self.relu(x)\n",
        "\t\tx = torch.cat([x, encoder_outputs[-4]], dim = 1)\n",
        "\t\tx = self.conv2d_8(x)\n",
        "\t\tx = self.relu(x)\n",
        "\n",
        "\t\tx = self.conv2d_transpose_4(x)\n",
        "\t\tx = self.relu(x)\n",
        "\t\tx = torch.cat([x, encoder_outputs[-5]], dim = 1)\n",
        "\t\tx = self.conv2d_9(x)\n",
        "\t\tx = self.relu(x)\n",
        "\n",
        "\t\treturn x"
      ],
      "metadata": {
        "id": "F1z2yaNbkH9N"
      }
    },
    {
      "cell_type": "markdown",
      "source": [
        "### Torchinfo pour vérifier"
      ],
      "metadata": {
        "collapsed": false,
        "id": "xUMFOhdAkH9O"
      }
    },
    {
      "cell_type": "code",
      "execution_count": null,
      "outputs": [
        {
          "output_type": "execute_result",
          "data": {
            "text/plain": [
              "==========================================================================================\n",
              "Layer (type:depth-idx)                   Output Shape              Param #\n",
              "==========================================================================================\n",
              "Decoder                                  [5, 1, 28, 28]            --\n",
              "├─ConvTranspose2d: 1-1                   [5, 256, 3, 3]            590,080\n",
              "├─ReLU: 1-2                              [5, 256, 3, 3]            --\n",
              "├─Conv2d: 1-3                            [5, 256, 3, 3]            1,179,904\n",
              "├─ReLU: 1-4                              [5, 256, 3, 3]            --\n",
              "├─ConvTranspose2d: 1-5                   [5, 128, 7, 7]            295,040\n",
              "├─ReLU: 1-6                              [5, 128, 7, 7]            --\n",
              "├─Conv2d: 1-7                            [5, 128, 7, 7]            295,040\n",
              "├─ReLU: 1-8                              [5, 128, 7, 7]            --\n",
              "├─ConvTranspose2d: 1-9                   [5, 64, 14, 14]           73,792\n",
              "├─ReLU: 1-10                             [5, 64, 14, 14]           --\n",
              "├─Conv2d: 1-11                           [5, 64, 14, 14]           73,792\n",
              "├─ReLU: 1-12                             [5, 64, 14, 14]           --\n",
              "├─ConvTranspose2d: 1-13                  [5, 32, 28, 28]           18,464\n",
              "├─ReLU: 1-14                             [5, 32, 28, 28]           --\n",
              "├─Conv2d: 1-15                           [5, 1, 28, 28]            577\n",
              "├─ReLU: 1-16                             [5, 1, 28, 28]            --\n",
              "==========================================================================================\n",
              "Total params: 2,526,689\n",
              "Trainable params: 2,526,689\n",
              "Non-trainable params: 0\n",
              "Total mult-adds (M): 443.49\n",
              "==========================================================================================\n",
              "Input size (MB): 0.93\n",
              "Forward/backward pass size (MB): 2.72\n",
              "Params size (MB): 10.11\n",
              "Estimated Total Size (MB): 13.76\n",
              "=========================================================================================="
            ]
          },
          "metadata": {},
          "execution_count": 21
        }
      ],
      "source": [
        "from torchinfo import summary\n",
        "\n",
        "batch_size = 5\n",
        "decoder = Decoder()\n",
        "summary(decoder, input_size=[(batch_size, 32, 28, 28), (batch_size, 64, 14, 14), (batch_size, 128, 7, 7), (batch_size, 256, 3, 3), (batch_size, 256, 1, 1)])"
      ],
      "metadata": {
        "id": "gLZxc1-HkH9O",
        "colab": {
          "base_uri": "https://localhost:8080/"
        },
        "outputId": "c6fa5bb6-a305-487f-d7f0-7dcfbb0db2f7"
      }
    },
    {
      "cell_type": "markdown",
      "source": [
        "### Unet"
      ],
      "metadata": {
        "collapsed": false,
        "id": "Whi98AiZkH9O"
      }
    },
    {
      "cell_type": "code",
      "execution_count": null,
      "outputs": [],
      "source": [
        "class Unet(nn.Module):\n",
        "\tdef __init__(self):\n",
        "\t\tsuper().__init__()\n",
        "\t\tself.encoder = Encoder()\n",
        "\t\tself.decoder = Decoder()\n",
        "\n",
        "\tdef forward(self, x):\n",
        "\t\touts = self.encoder(x)\n",
        "\t\tout = self.decoder(*outs)\n",
        "\t\treturn out"
      ],
      "metadata": {
        "id": "XN_HHLkEkH9O"
      }
    },
    {
      "cell_type": "code",
      "execution_count": null,
      "outputs": [
        {
          "output_type": "execute_result",
          "data": {
            "text/plain": [
              "==========================================================================================\n",
              "Layer (type:depth-idx)                   Output Shape              Param #\n",
              "==========================================================================================\n",
              "Unet                                     [5, 1, 28, 28]            --\n",
              "├─Encoder: 1-1                           [5, 32, 28, 28]           --\n",
              "│    └─Conv2d: 2-1                       [5, 32, 28, 28]           320\n",
              "│    └─ReLU: 2-2                         [5, 32, 28, 28]           --\n",
              "│    └─MaxPool2d: 2-3                    [5, 32, 14, 14]           --\n",
              "│    └─Conv2d: 2-4                       [5, 64, 14, 14]           18,496\n",
              "│    └─ReLU: 2-5                         [5, 64, 14, 14]           --\n",
              "│    └─MaxPool2d: 2-6                    [5, 64, 7, 7]             --\n",
              "│    └─Conv2d: 2-7                       [5, 128, 7, 7]            73,856\n",
              "│    └─ReLU: 2-8                         [5, 128, 7, 7]            --\n",
              "│    └─MaxPool2d: 2-9                    [5, 128, 3, 3]            --\n",
              "│    └─Conv2d: 2-10                      [5, 256, 3, 3]            295,168\n",
              "│    └─ReLU: 2-11                        [5, 256, 3, 3]            --\n",
              "│    └─MaxPool2d: 2-12                   [5, 256, 1, 1]            --\n",
              "│    └─Conv2d: 2-13                      [5, 256, 1, 1]            590,080\n",
              "│    └─ReLU: 2-14                        [5, 256, 1, 1]            --\n",
              "├─Decoder: 1-2                           [5, 1, 28, 28]            --\n",
              "│    └─ConvTranspose2d: 2-15             [5, 256, 3, 3]            590,080\n",
              "│    └─ReLU: 2-16                        [5, 256, 3, 3]            --\n",
              "│    └─Conv2d: 2-17                      [5, 256, 3, 3]            1,179,904\n",
              "│    └─ReLU: 2-18                        [5, 256, 3, 3]            --\n",
              "│    └─ConvTranspose2d: 2-19             [5, 128, 7, 7]            295,040\n",
              "│    └─ReLU: 2-20                        [5, 128, 7, 7]            --\n",
              "│    └─Conv2d: 2-21                      [5, 128, 7, 7]            295,040\n",
              "│    └─ReLU: 2-22                        [5, 128, 7, 7]            --\n",
              "│    └─ConvTranspose2d: 2-23             [5, 64, 14, 14]           73,792\n",
              "│    └─ReLU: 2-24                        [5, 64, 14, 14]           --\n",
              "│    └─Conv2d: 2-25                      [5, 64, 14, 14]           73,792\n",
              "│    └─ReLU: 2-26                        [5, 64, 14, 14]           --\n",
              "│    └─ConvTranspose2d: 2-27             [5, 32, 28, 28]           18,464\n",
              "│    └─ReLU: 2-28                        [5, 32, 28, 28]           --\n",
              "│    └─Conv2d: 2-29                      [5, 1, 28, 28]            577\n",
              "│    └─ReLU: 2-30                        [5, 1, 28, 28]            --\n",
              "==========================================================================================\n",
              "Total params: 3,504,609\n",
              "Trainable params: 3,504,609\n",
              "Non-trainable params: 0\n",
              "Total mult-adds (M): 497.20\n",
              "==========================================================================================\n",
              "Input size (MB): 0.02\n",
              "Forward/backward pass size (MB): 4.58\n",
              "Params size (MB): 14.02\n",
              "Estimated Total Size (MB): 18.62\n",
              "=========================================================================================="
            ]
          },
          "metadata": {},
          "execution_count": 23
        }
      ],
      "source": [
        "batch_size = 5\n",
        "unet = Unet()\n",
        "summary(unet, input_size=(batch_size, 1, 28, 28))"
      ],
      "metadata": {
        "id": "gYqVRDgAkH9O",
        "colab": {
          "base_uri": "https://localhost:8080/"
        },
        "outputId": "58416bb1-0537-4ab0-ff81-d854804325ff",
        "collapsed": true
      }
    },
    {
      "cell_type": "markdown",
      "source": [
        "## Exercice 4: Entraînement du modèle (sur GPU) et visualisation des résultats"
      ],
      "metadata": {
        "collapsed": false,
        "id": "C_RGuMGTkH9O"
      }
    },
    {
      "cell_type": "code",
      "source": [],
      "metadata": {
        "id": "wKxos9NCruj3"
      },
      "execution_count": null,
      "outputs": []
    },
    {
      "cell_type": "code",
      "execution_count": null,
      "outputs": [
        {
          "output_type": "stream",
          "name": "stdout",
          "text": [
            "cuda\n"
          ]
        }
      ],
      "source": [
        "device = (\n",
        "    \"cuda\"\n",
        "    if torch.cuda.is_available()\n",
        "    else \"mps\"\n",
        "    if torch.backends.mps.is_available()\n",
        "    else \"cpu\"\n",
        ")\n",
        "print(device)"
      ],
      "metadata": {
        "id": "syIK2oJMkH9O",
        "colab": {
          "base_uri": "https://localhost:8080/"
        },
        "outputId": "4ccaa27a-b8cd-4af4-d1ac-7c515257835d"
      }
    },
    {
      "cell_type": "code",
      "source": [
        "#Regroupement des données en batch\n",
        "batch_size = 20\n",
        "width = X_train_normalized.shape[1]\n",
        "height = X_train_normalized.shape[2]\n",
        "X_train_reshaped_noise = X_train_noise.reshape(-1, batch_size, 1, width, height)\n",
        "X_train_reshaped_clean = X_train_normalized.reshape(-1, batch_size, 1, width, height)\n",
        "\n",
        "X_test_reshaped_noise = X_test_noise.reshape(-1, batch_size, 1, width, height)\n",
        "X_test_reshaped_clean = X_test_normalized.reshape(-1, batch_size, 1, width, height)\n",
        "\n",
        "print(X_train_noise.shape)\n",
        "print(X_train.shape)\n",
        "\n",
        "print(X_train_reshaped_noise.shape)\n",
        "print(X_train_reshaped_clean.shape)"
      ],
      "metadata": {
        "colab": {
          "base_uri": "https://localhost:8080/"
        },
        "id": "t6fNSjzVTUNa",
        "outputId": "5dd750de-b2ce-4774-8e67-87c348b170fa"
      },
      "execution_count": null,
      "outputs": [
        {
          "output_type": "stream",
          "name": "stdout",
          "text": [
            "torch.Size([60000, 28, 28])\n",
            "torch.Size([60000, 28, 28])\n",
            "torch.Size([3000, 20, 1, 28, 28])\n",
            "torch.Size([3000, 20, 1, 28, 28])\n"
          ]
        }
      ]
    },
    {
      "cell_type": "code",
      "execution_count": null,
      "outputs": [
        {
          "output_type": "stream",
          "name": "stdout",
          "text": [
            "Epoch 0 -- Loss 0.02179604396224022\n"
          ]
        },
        {
          "output_type": "display_data",
          "data": {
            "text/plain": [
              "<Figure size 640x480 with 5 Axes>"
            ],
            "image/png": "[encoded data removed]"
          },
          "metadata": {}
        },
        {
          "output_type": "stream",
          "name": "stdout",
          "text": [
            "Epoch 10 -- Loss 0.01340681966394186\n"
          ]
        },
        {
          "output_type": "display_data",
          "data": {
            "text/plain": [
              "<Figure size 640x480 with 5 Axes>"
            ],
            "image/png": "[encoded data removed]"
          },
          "metadata": {}
        },
        {
          "output_type": "stream",
          "name": "stdout",
          "text": [
            "Epoch 20 -- Loss 0.010119594633579254\n"
          ]
        },
        {
          "output_type": "display_data",
          "data": {
            "text/plain": [
              "<Figure size 640x480 with 5 Axes>"
            ],
            "image/png": "[encoded data removed]"
          },
          "metadata": {}
        },
        {
          "output_type": "stream",
          "name": "stdout",
          "text": [
            "Epoch 30 -- Loss 0.008796483278274536\n"
          ]
        },
        {
          "output_type": "display_data",
          "data": {
            "text/plain": [
              "<Figure size 640x480 with 5 Axes>"
            ],
            "image/png": "[encoded data removed]"
          },
          "metadata": {}
        },
        {
          "output_type": "stream",
          "name": "stdout",
          "text": [
            "Epoch 40 -- Loss 0.007864383049309254\n"
          ]
        },
        {
          "output_type": "display_data",
          "data": {
            "text/plain": [
              "<Figure size 640x480 with 5 Axes>"
            ],
            "image/png": "[encoded data removed]"
          },
          "metadata": {}
        },
        {
          "output_type": "stream",
          "name": "stdout",
          "text": [
            "Epoch 50 -- Loss 0.0065474440343678\n"
          ]
        },
        {
          "output_type": "display_data",
          "data": {
            "text/plain": [
              "<Figure size 640x480 with 5 Axes>"
            ],
            "image/png": "[encoded data removed]"
          },
          "metadata": {}
        },
        {
          "output_type": "stream",
          "name": "stdout",
          "text": [
            "Epoch 60 -- Loss 0.006383707746863365\n"
          ]
        },
        {
          "output_type": "display_data",
          "data": {
            "text/plain": [
              "<Figure size 640x480 with 5 Axes>"
            ],
            "image/png": "[encoded data removed]"
          },
          "metadata": {}
        },
        {
          "output_type": "stream",
          "name": "stdout",
          "text": [
            "Epoch 70 -- Loss 0.005228527821600437\n"
          ]
        },
        {
          "output_type": "display_data",
          "data": {
            "text/plain": [
              "<Figure size 640x480 with 5 Axes>"
            ],
            "image/png": "[encoded data removed]"
          },
          "metadata": {}
        },
        {
          "output_type": "stream",
          "name": "stdout",
          "text": [
            "Epoch 80 -- Loss 0.00475623132660985\n"
          ]
        },
        {
          "output_type": "display_data",
          "data": {
            "text/plain": [
              "<Figure size 640x480 with 5 Axes>"
            ],
            "image/png": "[encoded data removed]"
          },
          "metadata": {}
        },
        {
          "output_type": "stream",
          "name": "stdout",
          "text": [
            "Epoch 90 -- Loss 0.004295133054256439\n"
          ]
        },
        {
          "output_type": "display_data",
          "data": {
            "text/plain": [
              "<Figure size 640x480 with 5 Axes>"
            ],
            "image/png": "[encoded data removed]"
          },
          "metadata": {}
        }
      ],
      "source": [
        "\n",
        "import matplotlib.pyplot as plt\n",
        "import numpy as np\n",
        "import random\n",
        "nb_epoch = 100\n",
        "model = Unet().to(device)\n",
        "loss_fct = nn.MSELoss()\n",
        "optimizer = torch.optim.Adam(model.parameters(), lr = 1e-4)\n",
        "\n",
        "predictions = model(random.choice(X_test_reshaped_noise).to(device))\n",
        "predictions = predictions.cpu().detach().numpy()\n",
        "\n",
        "for epoch in range(nb_epoch):\n",
        "  for i in range(len(X_train_reshaped_noise)):\n",
        "    optimizer.zero_grad()\n",
        "    X = X_train_reshaped_noise[i].to(device)\n",
        "    prediction = model(X)\n",
        "    X_clean = X_train_reshaped_clean[i].to(device)\n",
        "    loss = loss_fct(prediction, X_clean)\n",
        "    loss.backward()\n",
        "    optimizer.step()\n",
        "\n",
        "\n",
        "  if epoch % 10 == 0:\n",
        "    print(f\"Epoch {epoch} -- Loss {loss}\")\n",
        "\n",
        "    predictions = model(random.choice(X_test_reshaped_noise).to(device))\n",
        "    predictions = predictions.cpu().detach().numpy()\n",
        "\n",
        "    for i in range(5):\n",
        "        plt.subplot(2, 5, i + 6)\n",
        "        plt.imshow(predictions[i][0])\n",
        "        plt.title(\"Clean\")\n",
        "        plt.axis('off')\n",
        "    plt.show()\n"
      ],
      "metadata": {
        "id": "3h0LgOIkkH9P",
        "colab": {
          "base_uri": "https://localhost:8080/",
          "height": 1000
        },
        "outputId": "75b2f22d-0dfc-4d7a-90ef-be1f5623ae98"
      }
    },
    {
      "cell_type": "markdown",
      "source": [
        "## Challenge: Denoising Dirty Documents/Remove noise from printed text\n",
        "\n",
        "![Dirty Documents](https://raw.githubusercontent.com/Automatants/projets-de-permanence/master/image-hosting/TP3_Autoencodeur/denoisingdocument.JPG)\n",
        "\n",
        "Lien vers le challenge: https://sharing.cs-campus.fr/compete/89"
      ],
      "metadata": {
        "collapsed": false,
        "id": "JvvuJVvTkH9P"
      }
    }
  ],
  "metadata": {
    "kernelspec": {
      "display_name": "Python 3",
      "name": "python3"
    },
    "language_info": {
      "codemirror_mode": {
        "name": "ipython",
        "version": 2
      },
      "file_extension": ".py",
      "mimetype": "text/x-python",
      "name": "python",
      "nbconvert_exporter": "python",
      "pygments_lexer": "ipython2",
      "version": "2.7.6"
    },
    "colab": {
      "provenance": []
    }
  },
  "nbformat": 4,
  "nbformat_minor": 0
}