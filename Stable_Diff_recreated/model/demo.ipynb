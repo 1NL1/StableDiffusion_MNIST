{
 "cells": [
  {
   "cell_type": "markdown",
   "id": "87537e14",
   "metadata": {},
   "source": [
    "Importation des modules"
   ]
  },
  {
   "cell_type": "code",
   "execution_count": 2,
   "id": "696d5584",
   "metadata": {},
   "outputs": [
    {
     "name": "stdout",
     "output_type": "stream",
     "text": [
      "Note: you may need to restart the kernel to use updated packages.\n"
     ]
    },
    {
     "name": "stderr",
     "output_type": "stream",
     "text": [
      "ERROR: Could not find a version that satisfies the requirement torch==2.0.1 (from versions: 2.2.0, 2.2.1, 2.2.2, 2.3.0, 2.3.1, 2.4.0, 2.4.1, 2.5.0, 2.5.1, 2.6.0, 2.7.0)\n",
      "ERROR: No matching distribution found for torch==2.0.1\n"
     ]
    }
   ],
   "source": [
    "pip install -r requirements.txt"
   ]
  },
  {
   "cell_type": "markdown",
   "id": "77152d22",
   "metadata": {},
   "source": [
    "Inférence"
   ]
  },
  {
   "cell_type": "code",
   "execution_count": null,
   "id": "01aab5b6",
   "metadata": {},
   "outputs": [],
   "source": [
    "import model_loader\n",
    "import pipeline\n",
    "from PIL import Image\n",
    "from transformers import CLIPTokenizer\n",
    "import torch\n",
    "\n",
    "DEVICE = \"cpu\"\n",
    "\n",
    "ALLOW_CUDA = False\n",
    "ALLOW_MPS = False\n",
    "\n",
    "if ALLOW_CUDA and torch.cuda.is_available():\n",
    "    DEVICE = \"cuda\"\n",
    "elif ALLOW_MPS and (torch.has_mps or torch.backends.mps.is_available()):\n",
    "    DEVICE = \"mps\"\n",
    "\n",
    "print(f\"Using device: {DEVICE}\")\n",
    "\n",
    "\n",
    "tokenizer = CLIPTokenizer(\"../data/vocab.json\", merges_file = \"../data/merges.txt\")\n",
    "model_file = \"../data/v1-5-pruned-emaonly.ckpt\"\n",
    "models = model_loader.preload_models(model_file, DEVICE)"
   ]
  },
  {
   "cell_type": "code",
   "execution_count": null,
   "id": "ba926dcc",
   "metadata": {},
   "outputs": [],
   "source": [
    "#TEXT TO IMAGE\n",
    "prompt = input(\"Votre prompt: \") #A cat stretching on the floor, highly detailed, ultra sharp, cinematic, 8k resolution\n",
    "negative_prompt = input(\"Votre prompt négatif: \") #\n",
    "do_cfg = True\n",
    "cfg_scale = 7 #entre 1 et 14, pour dire a quel point l'IA fait attention au prompt\n",
    "\n",
    "#IMAGE TO IMAGE\n",
    "input_image = None\n",
    "image_path = \"../images/\"#+input(\"Nom et extention de l'image\")\n",
    "#input_image = Image.open(image_path)\n",
    "strength = 0.9 #combien de bruit on met dans l'image\n",
    "\n",
    "sampler = \"ddpm\"\n",
    "n_inference_steps = 50\n",
    "seed = 42\n",
    "\n",
    "output_image = pipeline.generate(\n",
    "    prompt = prompt,\n",
    "    negative_prompt = negative_prompt,\n",
    "    do_cfg = do_cfg,\n",
    "    cfg_scale = cfg_scale,\n",
    "    sampler_name = sampler,\n",
    "    models = models,\n",
    "    n_inference_steps = n_inference_steps,\n",
    "    seed = seed,\n",
    "    device = DEVICE,\n",
    "    idle_device = \"cpu\",\n",
    "    tokenizer = tokenizer,\n",
    "    input_image = input_image,\n",
    "    strength = strength\n",
    ")\n",
    "\n",
    "Image.fromarray(output_image)"
   ]
  }
 ],
 "metadata": {
  "kernelspec": {
   "display_name": "base",
   "language": "python",
   "name": "python3"
  },
  "language_info": {
   "codemirror_mode": {
    "name": "ipython",
    "version": 3
   },
   "file_extension": ".py",
   "mimetype": "text/x-python",
   "name": "python",
   "nbconvert_exporter": "python",
   "pygments_lexer": "ipython3",
   "version": "3.12.3"
  }
 },
 "nbformat": 4,
 "nbformat_minor": 5
}
